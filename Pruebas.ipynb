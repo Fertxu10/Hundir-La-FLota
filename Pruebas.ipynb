{
 "cells": [
  {
   "cell_type": "code",
   "execution_count": 1,
   "metadata": {},
   "outputs": [],
   "source": [
    "from funciones import *\n",
    "from variables import *\n",
    "import os\n",
    "import pprint\n",
    "import time\n",
    "import random\n",
    "import tabulate"
   ]
  },
  {
   "cell_type": "code",
   "execution_count": null,
   "metadata": {},
   "outputs": [],
   "source": [
    "mensaje_bienvenida()\n",
    "tablero_mio = crear_tablero(tamano)\n",
    "tablero_mio_visualizar = crear_tablero(tamano)\n",
    "tablero_computer = crear_tablero(tamano)\n",
    "tablero_computer_visualizar = crear_tablero(tamano)\n",
    "posicionar_barcos_fijos_mio(tablero_mio)\n",
    "posicionar_barcos_fijos_ordenador(tablero_computer)\n",
    "print()\n",
    "pprint.pprint(tablero_mio_visualizar)\n",
    "print()\n",
    "pprint.pprint(tablero_mio)\n",
    "print()\n",
    "\n",
    "print(\"Tablero de la computadora con barcos fijos. Te doy 3 segundos para que los memorices...\\n\")\n",
    "print()\n",
    "visualizar(tablero_computer)\n",
    "time.sleep(3)\n",
    "os.system(\"cls\")\n",
    "print()\n",
    "vidas_jugador=calcular_vidas(tablero_mio)\n",
    "vidas_computer=calcular_vidas(tablero_computer)"
   ]
  },
  {
   "cell_type": "code",
   "execution_count": null,
   "metadata": {},
   "outputs": [],
   "source": [
    "print(vidas_computer)"
   ]
  },
  {
   "cell_type": "code",
   "execution_count": null,
   "metadata": {},
   "outputs": [],
   "source": [
    "turno_jugador(tablero_computer,tablero_mio_visualizar)"
   ]
  },
  {
   "cell_type": "code",
   "execution_count": null,
   "metadata": {},
   "outputs": [],
   "source": [
    "print(calcular_vidas(tablero_computer))\n"
   ]
  },
  {
   "cell_type": "code",
   "execution_count": null,
   "metadata": {},
   "outputs": [],
   "source": [
    "def turno_computer(tablero_mio, tablero_computer_visualizar):\n",
    "    acierto = True\n",
    "    while acierto:\n",
    "        time.sleep(0.5)\n",
    "        vidas_jugador=calcular_vidas(tablero_mio)\n",
    "        print(vidas_jugador)\n",
    "        if vidas_jugador== 0:\n",
    "            print(\"Que malo eres... Has perdido!\")\n",
    "            break\n",
    "        i =random.randrange(0,10)\n",
    "        j =random.randrange(0,10)\n",
    "        print (i,j)\n",
    "        if i >= 10 or j >= 10:\n",
    "            print(\"tus coordenadas, se salen del tablero, vuelve a probar\")\n",
    "        elif i >= 0 and i <= 9 and j >= 0 and j <= 9:\n",
    "            acierto = disparo(tablero_mio, tablero_computer_visualizar,i,j)\n",
    "            print()\n",
    "            pprint.pprint(tablero_mio)\n",
    "            print()\n",
    "        else:\n",
    "            print(\"Odio Data\")\n",
    "            acierto = False\n",
    "\n",
    "turno_computer(tablero_mio,tablero_computer_visualizar)"
   ]
  }
 ],
 "metadata": {
  "kernelspec": {
   "display_name": "Python 3",
   "language": "python",
   "name": "python3"
  },
  "language_info": {
   "codemirror_mode": {
    "name": "ipython",
    "version": 3
   },
   "file_extension": ".py",
   "mimetype": "text/x-python",
   "name": "python",
   "nbconvert_exporter": "python",
   "pygments_lexer": "ipython3",
   "version": "3.11.9"
  }
 },
 "nbformat": 4,
 "nbformat_minor": 2
}
